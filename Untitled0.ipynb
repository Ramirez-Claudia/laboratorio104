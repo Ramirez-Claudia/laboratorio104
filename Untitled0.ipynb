{
  "nbformat": 4,
  "nbformat_minor": 0,
  "metadata": {
    "colab": {
      "provenance": [],
      "toc_visible": true,
      "authorship_tag": "ABX9TyOFYC8h6TLe8jkK+H7Pk8/u",
      "include_colab_link": true
    },
    "kernelspec": {
      "name": "python3",
      "display_name": "Python 3"
    },
    "language_info": {
      "name": "python"
    }
  },
  "cells": [
    {
      "cell_type": "markdown",
      "metadata": {
        "id": "view-in-github",
        "colab_type": "text"
      },
      "source": [
        "<a href=\"https://colab.research.google.com/github/Ramirez-Claudia/laboratorio104/blob/main/Untitled0.ipynb\" target=\"_parent\"><img src=\"https://colab.research.google.com/assets/colab-badge.svg\" alt=\"Open In Colab\"/></a>"
      ]
    },
    {
      "cell_type": "code",
      "execution_count": null,
      "metadata": {
        "id": "gGBYkUBpL1Kx"
      },
      "outputs": [],
      "source": []
    },
    {
      "cell_type": "code",
      "source": [
        "from google.colab import drive\n",
        "drive.mount('/content/drive')\n",
        "import pandas as pd\n",
        "path=\"/content/drive/MyDrive/Conjunto de datos/atenciones_abogadas_de_las_mujeres (1).csv\"\n",
        "df= pd.read_csv(path)\n",
        "df.info()"
      ],
      "metadata": {
        "colab": {
          "base_uri": "https://localhost:8080/"
        },
        "id": "zzEU-AJFNU7j",
        "outputId": "91a57f7a-f23b-46c0-c249-80f275846577"
      },
      "execution_count": 3,
      "outputs": [
        {
          "output_type": "stream",
          "name": "stdout",
          "text": [
            "Drive already mounted at /content/drive; to attempt to forcibly remount, call drive.mount(\"/content/drive\", force_remount=True).\n"
          ]
        },
        {
          "output_type": "stream",
          "name": "stderr",
          "text": [
            "<ipython-input-3-c80fc6288cd6>:5: DtypeWarning: Columns (11,16,17,18) have mixed types. Specify dtype option on import or set low_memory=False.\n",
            "  df= pd.read_csv(path)\n"
          ]
        },
        {
          "output_type": "stream",
          "name": "stdout",
          "text": [
            "<class 'pandas.core.frame.DataFrame'>\n",
            "RangeIndex: 121995 entries, 0 to 121994\n",
            "Data columns (total 28 columns):\n",
            " #   Column                      Non-Null Count   Dtype  \n",
            "---  ------                      --------------   -----  \n",
            " 0   fecha                       121995 non-null  object \n",
            " 1   agencia                     120918 non-null  object \n",
            " 2   usuaria_sexo                121591 non-null  object \n",
            " 3   usuaria_nacionalidad        121641 non-null  object \n",
            " 4   usuaria_ent_fed_nacimiento  119967 non-null  object \n",
            " 5   usuaria_estado_civil        88051 non-null   object \n",
            " 6   usuaria_edad                120005 non-null  float64\n",
            " 7   usuaria_hijas               108979 non-null  float64\n",
            " 8   usuaria_hijos               102770 non-null  float64\n",
            " 9   usuaria_hijes               108646 non-null  float64\n",
            " 10  relacion_con_agresora       73933 non-null   object \n",
            " 11  agresora_ocupacion          42172 non-null   object \n",
            " 12  ci_iniciada                 99815 non-null   object \n",
            " 13  delito                      42187 non-null   object \n",
            " 14  representacion              116772 non-null  object \n",
            " 15  violencia_modalidad         107400 non-null  object \n",
            " 16  solicitud_medidas           40349 non-null   object \n",
            " 17  alto_riesgo                 52963 non-null   object \n",
            " 18  riesgo_feminicida           54000 non-null   object \n",
            " 19  vio_psicoemocional          121995 non-null  object \n",
            " 20  vio_fisica                  121995 non-null  object \n",
            " 21  vio_economica               121995 non-null  object \n",
            " 22  vio_patrimonial             121995 non-null  object \n",
            " 23  vio_sexual                  121995 non-null  object \n",
            " 24  vio_simbolica               121995 non-null  object \n",
            " 25  vio_obstetrica              121995 non-null  object \n",
            " 26  vio_reproductivos           121995 non-null  object \n",
            " 27  vio_feminicida              121995 non-null  object \n",
            "dtypes: float64(4), object(24)\n",
            "memory usage: 26.1+ MB\n"
          ]
        }
      ]
    },
    {
      "cell_type": "markdown",
      "source": [
        "# Obtener media"
      ],
      "metadata": {
        "id": "zxVz1Dn3Szj0"
      }
    },
    {
      "cell_type": "code",
      "source": [
        "import pandas as pd\n",
        "path =\"/content/drive/MyDrive/Conjunto de datos/atenciones_abogadas_de_las_mujeres (1).csv\"\n",
        "\n",
        "df = pd.read_csv(path)\n",
        "\n",
        "registros = df.shape[0]\n",
        "print(registros)\n",
        "\n",
        "\n",
        "\n",
        "\n"
      ],
      "metadata": {
        "colab": {
          "base_uri": "https://localhost:8080/"
        },
        "id": "MtGUlkiOS6l_",
        "outputId": "a5d613a9-ff62-4977-d118-28d384e0bf46"
      },
      "execution_count": 15,
      "outputs": [
        {
          "output_type": "stream",
          "name": "stdout",
          "text": [
            "121995\n"
          ]
        },
        {
          "output_type": "stream",
          "name": "stderr",
          "text": [
            "<ipython-input-15-c2c764dbb443>:4: DtypeWarning: Columns (11,16,17,18) have mixed types. Specify dtype option on import or set low_memory=False.\n",
            "  df = pd.read_csv(path)\n"
          ]
        }
      ]
    },
    {
      "cell_type": "code",
      "source": [
        "import pandas as pd\n",
        "path =\"/content/drive/MyDrive/Conjunto de datos/atenciones_abogadas_de_las_mujeres (1).csv\"\n",
        "df = pd.read_csv(path)\n",
        "\n",
        "df.info()"
      ],
      "metadata": {
        "colab": {
          "base_uri": "https://localhost:8080/"
        },
        "id": "3dHTJxBwXHDz",
        "outputId": "084bad86-b54f-437d-d2ae-01a3a620c8d5"
      },
      "execution_count": 18,
      "outputs": [
        {
          "output_type": "stream",
          "name": "stderr",
          "text": [
            "<ipython-input-18-13b179a82565>:3: DtypeWarning: Columns (11,16,17,18) have mixed types. Specify dtype option on import or set low_memory=False.\n",
            "  df = pd.read_csv(path)\n"
          ]
        },
        {
          "output_type": "stream",
          "name": "stdout",
          "text": [
            "<class 'pandas.core.frame.DataFrame'>\n",
            "RangeIndex: 121995 entries, 0 to 121994\n",
            "Data columns (total 28 columns):\n",
            " #   Column                      Non-Null Count   Dtype  \n",
            "---  ------                      --------------   -----  \n",
            " 0   fecha                       121995 non-null  object \n",
            " 1   agencia                     120918 non-null  object \n",
            " 2   usuaria_sexo                121591 non-null  object \n",
            " 3   usuaria_nacionalidad        121641 non-null  object \n",
            " 4   usuaria_ent_fed_nacimiento  119967 non-null  object \n",
            " 5   usuaria_estado_civil        88051 non-null   object \n",
            " 6   usuaria_edad                120005 non-null  float64\n",
            " 7   usuaria_hijas               108979 non-null  float64\n",
            " 8   usuaria_hijos               102770 non-null  float64\n",
            " 9   usuaria_hijes               108646 non-null  float64\n",
            " 10  relacion_con_agresora       73933 non-null   object \n",
            " 11  agresora_ocupacion          42172 non-null   object \n",
            " 12  ci_iniciada                 99815 non-null   object \n",
            " 13  delito                      42187 non-null   object \n",
            " 14  representacion              116772 non-null  object \n",
            " 15  violencia_modalidad         107400 non-null  object \n",
            " 16  solicitud_medidas           40349 non-null   object \n",
            " 17  alto_riesgo                 52963 non-null   object \n",
            " 18  riesgo_feminicida           54000 non-null   object \n",
            " 19  vio_psicoemocional          121995 non-null  object \n",
            " 20  vio_fisica                  121995 non-null  object \n",
            " 21  vio_economica               121995 non-null  object \n",
            " 22  vio_patrimonial             121995 non-null  object \n",
            " 23  vio_sexual                  121995 non-null  object \n",
            " 24  vio_simbolica               121995 non-null  object \n",
            " 25  vio_obstetrica              121995 non-null  object \n",
            " 26  vio_reproductivos           121995 non-null  object \n",
            " 27  vio_feminicida              121995 non-null  object \n",
            "dtypes: float64(4), object(24)\n",
            "memory usage: 26.1+ MB\n"
          ]
        }
      ]
    },
    {
      "cell_type": "markdown",
      "source": [
        "# hacer uso de la funcion tail"
      ],
      "metadata": {
        "id": "G2Fwn3WLbj-Y"
      }
    },
    {
      "cell_type": "code",
      "source": [
        "import pandas as pd\n",
        "path = \"/content/drive/MyDrive/Conjunto de datos/atenciones_abogadas_de_las_mujeres (1).csv\"\n",
        "df = pd.read_csv(path)\n",
        "df.tail(5)\n"
      ],
      "metadata": {
        "colab": {
          "base_uri": "https://localhost:8080/",
          "height": 377
        },
        "id": "2LyscZBdYBLa",
        "outputId": "054bfa9d-8302-42f9-da0f-9900aef7e5b6"
      },
      "execution_count": 19,
      "outputs": [
        {
          "output_type": "stream",
          "name": "stderr",
          "text": [
            "<ipython-input-19-803c23ad6eef>:3: DtypeWarning: Columns (11,16,17,18) have mixed types. Specify dtype option on import or set low_memory=False.\n",
            "  df = pd.read_csv(path)\n"
          ]
        },
        {
          "output_type": "execute_result",
          "data": {
            "text/plain": [
              "             fecha agencia usuaria_sexo usuaria_nacionalidad  \\\n",
              "121990  2022-03-01    FIVF        MUJER             MEXICANA   \n",
              "121991  2022-03-01   COY-5        MUJER             MEXICANA   \n",
              "121992  2022-03-01   COY-5        MUJER             MEXICANA   \n",
              "121993  2022-03-01   COY-5        MUJER             MEXICANA   \n",
              "121994  2022-03-01   COY-5        MUJER             MEXICANA   \n",
              "\n",
              "             usuaria_ent_fed_nacimiento       usuaria_estado_civil  \\\n",
              "121990                           COLIMA  UNIÓN LIBRE O CONCUBINATO   \n",
              "121991  VERACRUZ DE IGNACIO DE LA LLAVE                 SOLTERA(O)   \n",
              "121992                          JALISCO                 SOLTERA(O)   \n",
              "121993                           COLIMA                 SOLTERA(O)   \n",
              "121994  VERACRUZ DE IGNACIO DE LA LLAVE                 SOLTERA(O)   \n",
              "\n",
              "        usuaria_edad  usuaria_hijas  usuaria_hijos  usuaria_hijes  ...  \\\n",
              "121990          50.0            1.0            2.0            3.0  ...   \n",
              "121991          31.0            0.0            0.0            0.0  ...   \n",
              "121992          20.0            1.0            0.0            1.0  ...   \n",
              "121993          26.0            0.0            0.0            0.0  ...   \n",
              "121994          31.0            0.0            0.0            0.0  ...   \n",
              "\n",
              "       riesgo_feminicida vio_psicoemocional vio_fisica vio_economica  \\\n",
              "121990                NO                 Sí         No            No   \n",
              "121991                NO                 Sí         Sí            No   \n",
              "121992                NO                 Sí         No            No   \n",
              "121993                NO                 Sí         Sí            No   \n",
              "121994                NO                 Sí         Sí            No   \n",
              "\n",
              "       vio_patrimonial vio_sexual vio_simbolica vio_obstetrica  \\\n",
              "121990              No         No            No             No   \n",
              "121991              Sí         No            No             No   \n",
              "121992              No         No            No             No   \n",
              "121993              No         No            No             No   \n",
              "121994              Sí         No            No             No   \n",
              "\n",
              "       vio_reproductivos vio_feminicida  \n",
              "121990                No             No  \n",
              "121991                No             No  \n",
              "121992                No             No  \n",
              "121993                No             No  \n",
              "121994                No             No  \n",
              "\n",
              "[5 rows x 28 columns]"
            ],
            "text/html": [
              "\n",
              "  <div id=\"df-12f3dc06-2c01-4eb3-9820-0e5e7a95cabb\" class=\"colab-df-container\">\n",
              "    <div>\n",
              "<style scoped>\n",
              "    .dataframe tbody tr th:only-of-type {\n",
              "        vertical-align: middle;\n",
              "    }\n",
              "\n",
              "    .dataframe tbody tr th {\n",
              "        vertical-align: top;\n",
              "    }\n",
              "\n",
              "    .dataframe thead th {\n",
              "        text-align: right;\n",
              "    }\n",
              "</style>\n",
              "<table border=\"1\" class=\"dataframe\">\n",
              "  <thead>\n",
              "    <tr style=\"text-align: right;\">\n",
              "      <th></th>\n",
              "      <th>fecha</th>\n",
              "      <th>agencia</th>\n",
              "      <th>usuaria_sexo</th>\n",
              "      <th>usuaria_nacionalidad</th>\n",
              "      <th>usuaria_ent_fed_nacimiento</th>\n",
              "      <th>usuaria_estado_civil</th>\n",
              "      <th>usuaria_edad</th>\n",
              "      <th>usuaria_hijas</th>\n",
              "      <th>usuaria_hijos</th>\n",
              "      <th>usuaria_hijes</th>\n",
              "      <th>...</th>\n",
              "      <th>riesgo_feminicida</th>\n",
              "      <th>vio_psicoemocional</th>\n",
              "      <th>vio_fisica</th>\n",
              "      <th>vio_economica</th>\n",
              "      <th>vio_patrimonial</th>\n",
              "      <th>vio_sexual</th>\n",
              "      <th>vio_simbolica</th>\n",
              "      <th>vio_obstetrica</th>\n",
              "      <th>vio_reproductivos</th>\n",
              "      <th>vio_feminicida</th>\n",
              "    </tr>\n",
              "  </thead>\n",
              "  <tbody>\n",
              "    <tr>\n",
              "      <th>121990</th>\n",
              "      <td>2022-03-01</td>\n",
              "      <td>FIVF</td>\n",
              "      <td>MUJER</td>\n",
              "      <td>MEXICANA</td>\n",
              "      <td>COLIMA</td>\n",
              "      <td>UNIÓN LIBRE O CONCUBINATO</td>\n",
              "      <td>50.0</td>\n",
              "      <td>1.0</td>\n",
              "      <td>2.0</td>\n",
              "      <td>3.0</td>\n",
              "      <td>...</td>\n",
              "      <td>NO</td>\n",
              "      <td>Sí</td>\n",
              "      <td>No</td>\n",
              "      <td>No</td>\n",
              "      <td>No</td>\n",
              "      <td>No</td>\n",
              "      <td>No</td>\n",
              "      <td>No</td>\n",
              "      <td>No</td>\n",
              "      <td>No</td>\n",
              "    </tr>\n",
              "    <tr>\n",
              "      <th>121991</th>\n",
              "      <td>2022-03-01</td>\n",
              "      <td>COY-5</td>\n",
              "      <td>MUJER</td>\n",
              "      <td>MEXICANA</td>\n",
              "      <td>VERACRUZ DE IGNACIO DE LA LLAVE</td>\n",
              "      <td>SOLTERA(O)</td>\n",
              "      <td>31.0</td>\n",
              "      <td>0.0</td>\n",
              "      <td>0.0</td>\n",
              "      <td>0.0</td>\n",
              "      <td>...</td>\n",
              "      <td>NO</td>\n",
              "      <td>Sí</td>\n",
              "      <td>Sí</td>\n",
              "      <td>No</td>\n",
              "      <td>Sí</td>\n",
              "      <td>No</td>\n",
              "      <td>No</td>\n",
              "      <td>No</td>\n",
              "      <td>No</td>\n",
              "      <td>No</td>\n",
              "    </tr>\n",
              "    <tr>\n",
              "      <th>121992</th>\n",
              "      <td>2022-03-01</td>\n",
              "      <td>COY-5</td>\n",
              "      <td>MUJER</td>\n",
              "      <td>MEXICANA</td>\n",
              "      <td>JALISCO</td>\n",
              "      <td>SOLTERA(O)</td>\n",
              "      <td>20.0</td>\n",
              "      <td>1.0</td>\n",
              "      <td>0.0</td>\n",
              "      <td>1.0</td>\n",
              "      <td>...</td>\n",
              "      <td>NO</td>\n",
              "      <td>Sí</td>\n",
              "      <td>No</td>\n",
              "      <td>No</td>\n",
              "      <td>No</td>\n",
              "      <td>No</td>\n",
              "      <td>No</td>\n",
              "      <td>No</td>\n",
              "      <td>No</td>\n",
              "      <td>No</td>\n",
              "    </tr>\n",
              "    <tr>\n",
              "      <th>121993</th>\n",
              "      <td>2022-03-01</td>\n",
              "      <td>COY-5</td>\n",
              "      <td>MUJER</td>\n",
              "      <td>MEXICANA</td>\n",
              "      <td>COLIMA</td>\n",
              "      <td>SOLTERA(O)</td>\n",
              "      <td>26.0</td>\n",
              "      <td>0.0</td>\n",
              "      <td>0.0</td>\n",
              "      <td>0.0</td>\n",
              "      <td>...</td>\n",
              "      <td>NO</td>\n",
              "      <td>Sí</td>\n",
              "      <td>Sí</td>\n",
              "      <td>No</td>\n",
              "      <td>No</td>\n",
              "      <td>No</td>\n",
              "      <td>No</td>\n",
              "      <td>No</td>\n",
              "      <td>No</td>\n",
              "      <td>No</td>\n",
              "    </tr>\n",
              "    <tr>\n",
              "      <th>121994</th>\n",
              "      <td>2022-03-01</td>\n",
              "      <td>COY-5</td>\n",
              "      <td>MUJER</td>\n",
              "      <td>MEXICANA</td>\n",
              "      <td>VERACRUZ DE IGNACIO DE LA LLAVE</td>\n",
              "      <td>SOLTERA(O)</td>\n",
              "      <td>31.0</td>\n",
              "      <td>0.0</td>\n",
              "      <td>0.0</td>\n",
              "      <td>0.0</td>\n",
              "      <td>...</td>\n",
              "      <td>NO</td>\n",
              "      <td>Sí</td>\n",
              "      <td>Sí</td>\n",
              "      <td>No</td>\n",
              "      <td>Sí</td>\n",
              "      <td>No</td>\n",
              "      <td>No</td>\n",
              "      <td>No</td>\n",
              "      <td>No</td>\n",
              "      <td>No</td>\n",
              "    </tr>\n",
              "  </tbody>\n",
              "</table>\n",
              "<p>5 rows × 28 columns</p>\n",
              "</div>\n",
              "    <div class=\"colab-df-buttons\">\n",
              "\n",
              "  <div class=\"colab-df-container\">\n",
              "    <button class=\"colab-df-convert\" onclick=\"convertToInteractive('df-12f3dc06-2c01-4eb3-9820-0e5e7a95cabb')\"\n",
              "            title=\"Convert this dataframe to an interactive table.\"\n",
              "            style=\"display:none;\">\n",
              "\n",
              "  <svg xmlns=\"http://www.w3.org/2000/svg\" height=\"24px\" viewBox=\"0 -960 960 960\">\n",
              "    <path d=\"M120-120v-720h720v720H120Zm60-500h600v-160H180v160Zm220 220h160v-160H400v160Zm0 220h160v-160H400v160ZM180-400h160v-160H180v160Zm440 0h160v-160H620v160ZM180-180h160v-160H180v160Zm440 0h160v-160H620v160Z\"/>\n",
              "  </svg>\n",
              "    </button>\n",
              "\n",
              "  <style>\n",
              "    .colab-df-container {\n",
              "      display:flex;\n",
              "      gap: 12px;\n",
              "    }\n",
              "\n",
              "    .colab-df-convert {\n",
              "      background-color: #E8F0FE;\n",
              "      border: none;\n",
              "      border-radius: 50%;\n",
              "      cursor: pointer;\n",
              "      display: none;\n",
              "      fill: #1967D2;\n",
              "      height: 32px;\n",
              "      padding: 0 0 0 0;\n",
              "      width: 32px;\n",
              "    }\n",
              "\n",
              "    .colab-df-convert:hover {\n",
              "      background-color: #E2EBFA;\n",
              "      box-shadow: 0px 1px 2px rgba(60, 64, 67, 0.3), 0px 1px 3px 1px rgba(60, 64, 67, 0.15);\n",
              "      fill: #174EA6;\n",
              "    }\n",
              "\n",
              "    .colab-df-buttons div {\n",
              "      margin-bottom: 4px;\n",
              "    }\n",
              "\n",
              "    [theme=dark] .colab-df-convert {\n",
              "      background-color: #3B4455;\n",
              "      fill: #D2E3FC;\n",
              "    }\n",
              "\n",
              "    [theme=dark] .colab-df-convert:hover {\n",
              "      background-color: #434B5C;\n",
              "      box-shadow: 0px 1px 3px 1px rgba(0, 0, 0, 0.15);\n",
              "      filter: drop-shadow(0px 1px 2px rgba(0, 0, 0, 0.3));\n",
              "      fill: #FFFFFF;\n",
              "    }\n",
              "  </style>\n",
              "\n",
              "    <script>\n",
              "      const buttonEl =\n",
              "        document.querySelector('#df-12f3dc06-2c01-4eb3-9820-0e5e7a95cabb button.colab-df-convert');\n",
              "      buttonEl.style.display =\n",
              "        google.colab.kernel.accessAllowed ? 'block' : 'none';\n",
              "\n",
              "      async function convertToInteractive(key) {\n",
              "        const element = document.querySelector('#df-12f3dc06-2c01-4eb3-9820-0e5e7a95cabb');\n",
              "        const dataTable =\n",
              "          await google.colab.kernel.invokeFunction('convertToInteractive',\n",
              "                                                    [key], {});\n",
              "        if (!dataTable) return;\n",
              "\n",
              "        const docLinkHtml = 'Like what you see? Visit the ' +\n",
              "          '<a target=\"_blank\" href=https://colab.research.google.com/notebooks/data_table.ipynb>data table notebook</a>'\n",
              "          + ' to learn more about interactive tables.';\n",
              "        element.innerHTML = '';\n",
              "        dataTable['output_type'] = 'display_data';\n",
              "        await google.colab.output.renderOutput(dataTable, element);\n",
              "        const docLink = document.createElement('div');\n",
              "        docLink.innerHTML = docLinkHtml;\n",
              "        element.appendChild(docLink);\n",
              "      }\n",
              "    </script>\n",
              "  </div>\n",
              "\n",
              "\n",
              "<div id=\"df-046bc1e4-3d90-46c5-97d8-58d086bde24d\">\n",
              "  <button class=\"colab-df-quickchart\" onclick=\"quickchart('df-046bc1e4-3d90-46c5-97d8-58d086bde24d')\"\n",
              "            title=\"Suggest charts.\"\n",
              "            style=\"display:none;\">\n",
              "\n",
              "<svg xmlns=\"http://www.w3.org/2000/svg\" height=\"24px\"viewBox=\"0 0 24 24\"\n",
              "     width=\"24px\">\n",
              "    <g>\n",
              "        <path d=\"M19 3H5c-1.1 0-2 .9-2 2v14c0 1.1.9 2 2 2h14c1.1 0 2-.9 2-2V5c0-1.1-.9-2-2-2zM9 17H7v-7h2v7zm4 0h-2V7h2v10zm4 0h-2v-4h2v4z\"/>\n",
              "    </g>\n",
              "</svg>\n",
              "  </button>\n",
              "\n",
              "<style>\n",
              "  .colab-df-quickchart {\n",
              "      --bg-color: #E8F0FE;\n",
              "      --fill-color: #1967D2;\n",
              "      --hover-bg-color: #E2EBFA;\n",
              "      --hover-fill-color: #174EA6;\n",
              "      --disabled-fill-color: #AAA;\n",
              "      --disabled-bg-color: #DDD;\n",
              "  }\n",
              "\n",
              "  [theme=dark] .colab-df-quickchart {\n",
              "      --bg-color: #3B4455;\n",
              "      --fill-color: #D2E3FC;\n",
              "      --hover-bg-color: #434B5C;\n",
              "      --hover-fill-color: #FFFFFF;\n",
              "      --disabled-bg-color: #3B4455;\n",
              "      --disabled-fill-color: #666;\n",
              "  }\n",
              "\n",
              "  .colab-df-quickchart {\n",
              "    background-color: var(--bg-color);\n",
              "    border: none;\n",
              "    border-radius: 50%;\n",
              "    cursor: pointer;\n",
              "    display: none;\n",
              "    fill: var(--fill-color);\n",
              "    height: 32px;\n",
              "    padding: 0;\n",
              "    width: 32px;\n",
              "  }\n",
              "\n",
              "  .colab-df-quickchart:hover {\n",
              "    background-color: var(--hover-bg-color);\n",
              "    box-shadow: 0 1px 2px rgba(60, 64, 67, 0.3), 0 1px 3px 1px rgba(60, 64, 67, 0.15);\n",
              "    fill: var(--button-hover-fill-color);\n",
              "  }\n",
              "\n",
              "  .colab-df-quickchart-complete:disabled,\n",
              "  .colab-df-quickchart-complete:disabled:hover {\n",
              "    background-color: var(--disabled-bg-color);\n",
              "    fill: var(--disabled-fill-color);\n",
              "    box-shadow: none;\n",
              "  }\n",
              "\n",
              "  .colab-df-spinner {\n",
              "    border: 2px solid var(--fill-color);\n",
              "    border-color: transparent;\n",
              "    border-bottom-color: var(--fill-color);\n",
              "    animation:\n",
              "      spin 1s steps(1) infinite;\n",
              "  }\n",
              "\n",
              "  @keyframes spin {\n",
              "    0% {\n",
              "      border-color: transparent;\n",
              "      border-bottom-color: var(--fill-color);\n",
              "      border-left-color: var(--fill-color);\n",
              "    }\n",
              "    20% {\n",
              "      border-color: transparent;\n",
              "      border-left-color: var(--fill-color);\n",
              "      border-top-color: var(--fill-color);\n",
              "    }\n",
              "    30% {\n",
              "      border-color: transparent;\n",
              "      border-left-color: var(--fill-color);\n",
              "      border-top-color: var(--fill-color);\n",
              "      border-right-color: var(--fill-color);\n",
              "    }\n",
              "    40% {\n",
              "      border-color: transparent;\n",
              "      border-right-color: var(--fill-color);\n",
              "      border-top-color: var(--fill-color);\n",
              "    }\n",
              "    60% {\n",
              "      border-color: transparent;\n",
              "      border-right-color: var(--fill-color);\n",
              "    }\n",
              "    80% {\n",
              "      border-color: transparent;\n",
              "      border-right-color: var(--fill-color);\n",
              "      border-bottom-color: var(--fill-color);\n",
              "    }\n",
              "    90% {\n",
              "      border-color: transparent;\n",
              "      border-bottom-color: var(--fill-color);\n",
              "    }\n",
              "  }\n",
              "</style>\n",
              "\n",
              "  <script>\n",
              "    async function quickchart(key) {\n",
              "      const quickchartButtonEl =\n",
              "        document.querySelector('#' + key + ' button');\n",
              "      quickchartButtonEl.disabled = true;  // To prevent multiple clicks.\n",
              "      quickchartButtonEl.classList.add('colab-df-spinner');\n",
              "      try {\n",
              "        const charts = await google.colab.kernel.invokeFunction(\n",
              "            'suggestCharts', [key], {});\n",
              "      } catch (error) {\n",
              "        console.error('Error during call to suggestCharts:', error);\n",
              "      }\n",
              "      quickchartButtonEl.classList.remove('colab-df-spinner');\n",
              "      quickchartButtonEl.classList.add('colab-df-quickchart-complete');\n",
              "    }\n",
              "    (() => {\n",
              "      let quickchartButtonEl =\n",
              "        document.querySelector('#df-046bc1e4-3d90-46c5-97d8-58d086bde24d button');\n",
              "      quickchartButtonEl.style.display =\n",
              "        google.colab.kernel.accessAllowed ? 'block' : 'none';\n",
              "    })();\n",
              "  </script>\n",
              "</div>\n",
              "    </div>\n",
              "  </div>\n"
            ]
          },
          "metadata": {},
          "execution_count": 19
        }
      ]
    },
    {
      "cell_type": "markdown",
      "source": [
        "# obtener rango de fechas"
      ],
      "metadata": {
        "id": "4WXG9LnobQ2V"
      }
    },
    {
      "cell_type": "code",
      "source": [
        "import pandas as pd\n",
        "path =\"/content/drive/MyDrive/Conjunto de datos/atenciones_abogadas_de_las_mujeres (1).csv\"\n",
        "df = pd.read_csv(path)\n",
        "df[\"fecha\"] = pd.to_datetime(df[\"fecha\"], format=\"%Y-%m-%d\")\n",
        "fecha_inicial = df[\"fecha\"].min()\n",
        "fecha_final = df[\"fecha\"].max()\n",
        "print(f\"el rango de fecha es del {fecha_inicial} al {fecha_final}\")"
      ],
      "metadata": {
        "colab": {
          "base_uri": "https://localhost:8080/"
        },
        "id": "JNkMn-TgYkmx",
        "outputId": "271a4e9e-314d-43f0-f425-8d58c7bf37f1"
      },
      "execution_count": 24,
      "outputs": [
        {
          "output_type": "stream",
          "name": "stdout",
          "text": [
            "el rango de fecha es del 2019-03-01 00:00:00 al 2022-03-01 00:00:00\n"
          ]
        },
        {
          "output_type": "stream",
          "name": "stderr",
          "text": [
            "<ipython-input-24-af6087950a38>:3: DtypeWarning: Columns (11,16,17,18) have mixed types. Specify dtype option on import or set low_memory=False.\n",
            "  df = pd.read_csv(path)\n"
          ]
        }
      ]
    },
    {
      "cell_type": "code",
      "source": [
        "import pandas as pd\n",
        "import matplotlib.pyplot as plt\n",
        "path = \"/content/drive/MyDrive/Conjunto de datos/atenciones_abogadas_de_las_mujeres (1).csv\"\n",
        "df = pd.read_csv(path)\n",
        "media = df[\"usuaria_edad\"].mean()\n",
        "print(media)"
      ],
      "metadata": {
        "colab": {
          "base_uri": "https://localhost:8080/"
        },
        "id": "r8AO8PfObNbP",
        "outputId": "32cd9bfc-fced-4bae-abbc-b59b15b95b13"
      },
      "execution_count": 25,
      "outputs": [
        {
          "output_type": "stream",
          "name": "stdout",
          "text": [
            "38.38658389233782\n"
          ]
        },
        {
          "output_type": "stream",
          "name": "stderr",
          "text": [
            "<ipython-input-25-13e3c0cb527f>:4: DtypeWarning: Columns (11,16,17,18) have mixed types. Specify dtype option on import or set low_memory=False.\n",
            "  df = pd.read_csv(path)\n"
          ]
        }
      ]
    },
    {
      "cell_type": "code",
      "source": [
        "import pandas as pd\n",
        "import matplotlib.pyplot as plt\n",
        "path =\"/content/drive/MyDrive/Conjunto de datos/atenciones_abogadas_de_las_mujeres (1).csv\"\n",
        "df = pd.read_csv(path)\n",
        "moda = df[\"usuaria_edad\"].mode()\n",
        "print(moda)"
      ],
      "metadata": {
        "colab": {
          "base_uri": "https://localhost:8080/"
        },
        "id": "tLD3DME2clAe",
        "outputId": "2aa06685-8d11-4c14-a1f5-d736e6cfa10f"
      },
      "execution_count": 26,
      "outputs": [
        {
          "output_type": "stream",
          "name": "stdout",
          "text": [
            "0    30.0\n",
            "Name: usuaria_edad, dtype: float64\n"
          ]
        },
        {
          "output_type": "stream",
          "name": "stderr",
          "text": [
            "<ipython-input-26-3f69464d72a4>:4: DtypeWarning: Columns (11,16,17,18) have mixed types. Specify dtype option on import or set low_memory=False.\n",
            "  df = pd.read_csv(path)\n"
          ]
        }
      ]
    }
  ]
}